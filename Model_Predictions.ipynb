{
 "cells": [
  {
   "cell_type": "markdown",
   "metadata": {},
   "source": [
    "## Final Project"
   ]
  },
  {
   "cell_type": "markdown",
   "metadata": {},
   "source": [
    "## Predicting the probability of a stroke"
   ]
  },
  {
   "cell_type": "markdown",
   "metadata": {},
   "source": [
    "Importing libraries"
   ]
  },
  {
   "cell_type": "code",
   "execution_count": 16,
   "metadata": {},
   "outputs": [],
   "source": [
    "import pandas as pd\n",
    "import numpy as np\n",
    "from imblearn.combine import SMOTEENN\n",
    "from imblearn.under_sampling import EditedNearestNeighbours\n",
    "from imblearn.over_sampling import SMOTE\n",
    "from imblearn.pipeline import Pipeline\n",
    "from sklearn import svm\n",
    "from sklearn.svm import SVC\n",
    "from sklearn.ensemble import AdaBoostClassifier\n",
    "from sklearn.ensemble import RandomForestClassifier\n",
    "from sklearn.datasets import make_classification\n",
    "from sklearn.preprocessing import StandardScaler \n",
    "from sklearn.neighbors import KNeighborsClassifier\n",
    "from sklearn.tree import DecisionTreeClassifier\n",
    "from sklearn.linear_model import LogisticRegression\n",
    "from sklearn.model_selection import cross_validate\n",
    "from sklearn.model_selection import RepeatedStratifiedKFold\n",
    "from sklearn.model_selection import train_test_split\n",
    "from sklearn.metrics import accuracy_score, precision_score, recall_score, f1_score\n",
    "from sklearn.metrics import confusion_matrix, classification_report\n",
    "from sklearn.metrics import roc_auc_score, auc\n",
    "from xgboost import XGBClassifier "
   ]
  },
  {
   "cell_type": "markdown",
   "metadata": {},
   "source": [
    "Load data - preprocessed in ETL file"
   ]
  },
  {
   "cell_type": "code",
   "execution_count": 17,
   "metadata": {},
   "outputs": [],
   "source": [
    "def load_file(file_path):\n",
    "    file_to_read = file_path\n",
    "    df = pd.read_csv(file_to_read)\n",
    "    return df\n",
    "  \n",
    "df = load_file(r'df_ohencoded.csv')"
   ]
  },
  {
   "cell_type": "code",
   "execution_count": 18,
   "metadata": {},
   "outputs": [],
   "source": [
    "def load_file(file_path):\n",
    "    file_to_read = file_path\n",
    "    df = pd.read_csv(file_to_read)\n",
    "    return df\n",
    "  \n",
    "df_ohencoded = load_file(r'df_ohencoded.csv')"
   ]
  },
  {
   "cell_type": "code",
   "execution_count": 19,
   "metadata": {
    "scrolled": true
   },
   "outputs": [
    {
     "data": {
      "text/html": [
       "<div>\n",
       "<style scoped>\n",
       "    .dataframe tbody tr th:only-of-type {\n",
       "        vertical-align: middle;\n",
       "    }\n",
       "\n",
       "    .dataframe tbody tr th {\n",
       "        vertical-align: top;\n",
       "    }\n",
       "\n",
       "    .dataframe thead th {\n",
       "        text-align: right;\n",
       "    }\n",
       "</style>\n",
       "<table border=\"1\" class=\"dataframe\">\n",
       "  <thead>\n",
       "    <tr style=\"text-align: right;\">\n",
       "      <th></th>\n",
       "      <th>gender</th>\n",
       "      <th>age</th>\n",
       "      <th>hypertension</th>\n",
       "      <th>heart_disease</th>\n",
       "      <th>ever_married</th>\n",
       "      <th>Residence_type</th>\n",
       "      <th>avg_glucose_level</th>\n",
       "      <th>bmi</th>\n",
       "      <th>stroke</th>\n",
       "      <th>work_type_Govt_job</th>\n",
       "      <th>work_type_Never_worked</th>\n",
       "      <th>work_type_Private</th>\n",
       "      <th>work_type_Self-employed</th>\n",
       "      <th>work_type_children</th>\n",
       "      <th>smoking_status_Unknown</th>\n",
       "      <th>smoking_status_formerly smoked</th>\n",
       "      <th>smoking_status_never smoked</th>\n",
       "      <th>smoking_status_smokes</th>\n",
       "    </tr>\n",
       "  </thead>\n",
       "  <tbody>\n",
       "    <tr>\n",
       "      <th>0</th>\n",
       "      <td>1</td>\n",
       "      <td>67.0</td>\n",
       "      <td>0</td>\n",
       "      <td>1</td>\n",
       "      <td>1</td>\n",
       "      <td>1</td>\n",
       "      <td>228.69</td>\n",
       "      <td>36.600000</td>\n",
       "      <td>1</td>\n",
       "      <td>0</td>\n",
       "      <td>0</td>\n",
       "      <td>1</td>\n",
       "      <td>0</td>\n",
       "      <td>0</td>\n",
       "      <td>0</td>\n",
       "      <td>1</td>\n",
       "      <td>0</td>\n",
       "      <td>0</td>\n",
       "    </tr>\n",
       "    <tr>\n",
       "      <th>1</th>\n",
       "      <td>0</td>\n",
       "      <td>61.0</td>\n",
       "      <td>0</td>\n",
       "      <td>0</td>\n",
       "      <td>1</td>\n",
       "      <td>0</td>\n",
       "      <td>202.21</td>\n",
       "      <td>28.893237</td>\n",
       "      <td>1</td>\n",
       "      <td>0</td>\n",
       "      <td>0</td>\n",
       "      <td>0</td>\n",
       "      <td>1</td>\n",
       "      <td>0</td>\n",
       "      <td>0</td>\n",
       "      <td>0</td>\n",
       "      <td>1</td>\n",
       "      <td>0</td>\n",
       "    </tr>\n",
       "    <tr>\n",
       "      <th>2</th>\n",
       "      <td>1</td>\n",
       "      <td>80.0</td>\n",
       "      <td>0</td>\n",
       "      <td>1</td>\n",
       "      <td>1</td>\n",
       "      <td>0</td>\n",
       "      <td>105.92</td>\n",
       "      <td>32.500000</td>\n",
       "      <td>1</td>\n",
       "      <td>0</td>\n",
       "      <td>0</td>\n",
       "      <td>1</td>\n",
       "      <td>0</td>\n",
       "      <td>0</td>\n",
       "      <td>0</td>\n",
       "      <td>0</td>\n",
       "      <td>1</td>\n",
       "      <td>0</td>\n",
       "    </tr>\n",
       "    <tr>\n",
       "      <th>3</th>\n",
       "      <td>0</td>\n",
       "      <td>49.0</td>\n",
       "      <td>0</td>\n",
       "      <td>0</td>\n",
       "      <td>1</td>\n",
       "      <td>1</td>\n",
       "      <td>171.23</td>\n",
       "      <td>34.400000</td>\n",
       "      <td>1</td>\n",
       "      <td>0</td>\n",
       "      <td>0</td>\n",
       "      <td>1</td>\n",
       "      <td>0</td>\n",
       "      <td>0</td>\n",
       "      <td>0</td>\n",
       "      <td>0</td>\n",
       "      <td>0</td>\n",
       "      <td>1</td>\n",
       "    </tr>\n",
       "    <tr>\n",
       "      <th>4</th>\n",
       "      <td>0</td>\n",
       "      <td>79.0</td>\n",
       "      <td>1</td>\n",
       "      <td>0</td>\n",
       "      <td>1</td>\n",
       "      <td>0</td>\n",
       "      <td>174.12</td>\n",
       "      <td>24.000000</td>\n",
       "      <td>1</td>\n",
       "      <td>0</td>\n",
       "      <td>0</td>\n",
       "      <td>0</td>\n",
       "      <td>1</td>\n",
       "      <td>0</td>\n",
       "      <td>0</td>\n",
       "      <td>0</td>\n",
       "      <td>1</td>\n",
       "      <td>0</td>\n",
       "    </tr>\n",
       "    <tr>\n",
       "      <th>...</th>\n",
       "      <td>...</td>\n",
       "      <td>...</td>\n",
       "      <td>...</td>\n",
       "      <td>...</td>\n",
       "      <td>...</td>\n",
       "      <td>...</td>\n",
       "      <td>...</td>\n",
       "      <td>...</td>\n",
       "      <td>...</td>\n",
       "      <td>...</td>\n",
       "      <td>...</td>\n",
       "      <td>...</td>\n",
       "      <td>...</td>\n",
       "      <td>...</td>\n",
       "      <td>...</td>\n",
       "      <td>...</td>\n",
       "      <td>...</td>\n",
       "      <td>...</td>\n",
       "    </tr>\n",
       "    <tr>\n",
       "      <th>5104</th>\n",
       "      <td>0</td>\n",
       "      <td>80.0</td>\n",
       "      <td>1</td>\n",
       "      <td>0</td>\n",
       "      <td>1</td>\n",
       "      <td>1</td>\n",
       "      <td>83.75</td>\n",
       "      <td>28.893237</td>\n",
       "      <td>0</td>\n",
       "      <td>0</td>\n",
       "      <td>0</td>\n",
       "      <td>1</td>\n",
       "      <td>0</td>\n",
       "      <td>0</td>\n",
       "      <td>0</td>\n",
       "      <td>0</td>\n",
       "      <td>1</td>\n",
       "      <td>0</td>\n",
       "    </tr>\n",
       "    <tr>\n",
       "      <th>5105</th>\n",
       "      <td>0</td>\n",
       "      <td>81.0</td>\n",
       "      <td>0</td>\n",
       "      <td>0</td>\n",
       "      <td>1</td>\n",
       "      <td>1</td>\n",
       "      <td>125.20</td>\n",
       "      <td>40.000000</td>\n",
       "      <td>0</td>\n",
       "      <td>0</td>\n",
       "      <td>0</td>\n",
       "      <td>0</td>\n",
       "      <td>1</td>\n",
       "      <td>0</td>\n",
       "      <td>0</td>\n",
       "      <td>0</td>\n",
       "      <td>1</td>\n",
       "      <td>0</td>\n",
       "    </tr>\n",
       "    <tr>\n",
       "      <th>5106</th>\n",
       "      <td>0</td>\n",
       "      <td>35.0</td>\n",
       "      <td>0</td>\n",
       "      <td>0</td>\n",
       "      <td>1</td>\n",
       "      <td>0</td>\n",
       "      <td>82.99</td>\n",
       "      <td>30.600000</td>\n",
       "      <td>0</td>\n",
       "      <td>0</td>\n",
       "      <td>0</td>\n",
       "      <td>0</td>\n",
       "      <td>1</td>\n",
       "      <td>0</td>\n",
       "      <td>0</td>\n",
       "      <td>0</td>\n",
       "      <td>1</td>\n",
       "      <td>0</td>\n",
       "    </tr>\n",
       "    <tr>\n",
       "      <th>5107</th>\n",
       "      <td>1</td>\n",
       "      <td>51.0</td>\n",
       "      <td>0</td>\n",
       "      <td>0</td>\n",
       "      <td>1</td>\n",
       "      <td>0</td>\n",
       "      <td>166.29</td>\n",
       "      <td>25.600000</td>\n",
       "      <td>0</td>\n",
       "      <td>0</td>\n",
       "      <td>0</td>\n",
       "      <td>1</td>\n",
       "      <td>0</td>\n",
       "      <td>0</td>\n",
       "      <td>0</td>\n",
       "      <td>1</td>\n",
       "      <td>0</td>\n",
       "      <td>0</td>\n",
       "    </tr>\n",
       "    <tr>\n",
       "      <th>5108</th>\n",
       "      <td>0</td>\n",
       "      <td>44.0</td>\n",
       "      <td>0</td>\n",
       "      <td>0</td>\n",
       "      <td>1</td>\n",
       "      <td>1</td>\n",
       "      <td>85.28</td>\n",
       "      <td>26.200000</td>\n",
       "      <td>0</td>\n",
       "      <td>1</td>\n",
       "      <td>0</td>\n",
       "      <td>0</td>\n",
       "      <td>0</td>\n",
       "      <td>0</td>\n",
       "      <td>1</td>\n",
       "      <td>0</td>\n",
       "      <td>0</td>\n",
       "      <td>0</td>\n",
       "    </tr>\n",
       "  </tbody>\n",
       "</table>\n",
       "<p>5109 rows × 18 columns</p>\n",
       "</div>"
      ],
      "text/plain": [
       "      gender   age  hypertension  heart_disease  ever_married  Residence_type  \\\n",
       "0          1  67.0             0              1             1               1   \n",
       "1          0  61.0             0              0             1               0   \n",
       "2          1  80.0             0              1             1               0   \n",
       "3          0  49.0             0              0             1               1   \n",
       "4          0  79.0             1              0             1               0   \n",
       "...      ...   ...           ...            ...           ...             ...   \n",
       "5104       0  80.0             1              0             1               1   \n",
       "5105       0  81.0             0              0             1               1   \n",
       "5106       0  35.0             0              0             1               0   \n",
       "5107       1  51.0             0              0             1               0   \n",
       "5108       0  44.0             0              0             1               1   \n",
       "\n",
       "      avg_glucose_level        bmi  stroke  work_type_Govt_job  \\\n",
       "0                228.69  36.600000       1                   0   \n",
       "1                202.21  28.893237       1                   0   \n",
       "2                105.92  32.500000       1                   0   \n",
       "3                171.23  34.400000       1                   0   \n",
       "4                174.12  24.000000       1                   0   \n",
       "...                 ...        ...     ...                 ...   \n",
       "5104              83.75  28.893237       0                   0   \n",
       "5105             125.20  40.000000       0                   0   \n",
       "5106              82.99  30.600000       0                   0   \n",
       "5107             166.29  25.600000       0                   0   \n",
       "5108              85.28  26.200000       0                   1   \n",
       "\n",
       "      work_type_Never_worked  work_type_Private  work_type_Self-employed  \\\n",
       "0                          0                  1                        0   \n",
       "1                          0                  0                        1   \n",
       "2                          0                  1                        0   \n",
       "3                          0                  1                        0   \n",
       "4                          0                  0                        1   \n",
       "...                      ...                ...                      ...   \n",
       "5104                       0                  1                        0   \n",
       "5105                       0                  0                        1   \n",
       "5106                       0                  0                        1   \n",
       "5107                       0                  1                        0   \n",
       "5108                       0                  0                        0   \n",
       "\n",
       "      work_type_children  smoking_status_Unknown  \\\n",
       "0                      0                       0   \n",
       "1                      0                       0   \n",
       "2                      0                       0   \n",
       "3                      0                       0   \n",
       "4                      0                       0   \n",
       "...                  ...                     ...   \n",
       "5104                   0                       0   \n",
       "5105                   0                       0   \n",
       "5106                   0                       0   \n",
       "5107                   0                       0   \n",
       "5108                   0                       1   \n",
       "\n",
       "      smoking_status_formerly smoked  smoking_status_never smoked  \\\n",
       "0                                  1                            0   \n",
       "1                                  0                            1   \n",
       "2                                  0                            1   \n",
       "3                                  0                            0   \n",
       "4                                  0                            1   \n",
       "...                              ...                          ...   \n",
       "5104                               0                            1   \n",
       "5105                               0                            1   \n",
       "5106                               0                            1   \n",
       "5107                               1                            0   \n",
       "5108                               0                            0   \n",
       "\n",
       "      smoking_status_smokes  \n",
       "0                         0  \n",
       "1                         0  \n",
       "2                         0  \n",
       "3                         1  \n",
       "4                         0  \n",
       "...                     ...  \n",
       "5104                      0  \n",
       "5105                      0  \n",
       "5106                      0  \n",
       "5107                      0  \n",
       "5108                      0  \n",
       "\n",
       "[5109 rows x 18 columns]"
      ]
     },
     "execution_count": 19,
     "metadata": {},
     "output_type": "execute_result"
    }
   ],
   "source": [
    "df_ohencoded"
   ]
  },
  {
   "cell_type": "markdown",
   "metadata": {},
   "source": [
    "Setting up the data - separating, train-test split, scaling, and instituting SMOTE"
   ]
  },
  {
   "cell_type": "code",
   "execution_count": 20,
   "metadata": {},
   "outputs": [],
   "source": [
    "#separate the data to X and y\n",
    "X = df_ohencoded.drop('stroke', axis=1)\n",
    "y = df_ohencoded['stroke']\n",
    "# SMOTEless train test split\n",
    "X_train, X_test, y_train, y_test = train_test_split(X, y, test_size= 0.30, random_state= 27, stratify = y)\n",
    "# standardization\n",
    "sc = StandardScaler()\n",
    "X_train = sc.fit_transform(X_train)\n",
    "X_test = sc.fit_transform(X_test)\n",
    "#xtrain and y train with smote\n",
    "sm = SMOTE(random_state=27)\n",
    "X_train_smote, y_train_smote = sm.fit_resample(X_train, y_train)\n",
    "\n"
   ]
  },
  {
   "cell_type": "markdown",
   "metadata": {},
   "source": [
    "Function to train the models.  The function will loop through each of the models in the list"
   ]
  },
  {
   "cell_type": "code",
   "execution_count": 21,
   "metadata": {},
   "outputs": [],
   "source": [
    "\n",
    "def evaluate(X_train,y_train,X_test,y_test, smote):\n",
    "    \"\"\"Function that loops through several models and produces various scores\"\"\"\n",
    "    models= [['Logistic Regression ',LogisticRegression(random_state = 50, max_iter = 10000)],\n",
    "            ['KNearest Neighbor ',KNeighborsClassifier(n_neighbors = 285)],\n",
    "            ['Decision Tree Classifier ',DecisionTreeClassifier(random_state =27, max_depth =2, min_samples_split =3)],\n",
    "            ['Ada Boost ',AdaBoostClassifier(random_state = 27, n_estimators = 137)],\n",
    "            ['SVM ',SVC(random_state = 27, kernel = 'linear')]]\n",
    "\n",
    "    for name,model in models:\n",
    "\n",
    "        model = model\n",
    "        model.fit(X_train,y_train)\n",
    "        y_pred = model.predict(X_test)\n",
    "        roc = roc_auc_score(y_test, y_pred) \n",
    "        precision = precision_score(y_test, y_pred) \n",
    "        recall = recall_score(y_test, y_pred) \n",
    "        f1 = f1_score(y_test, y_pred) \n",
    "        cm_model = confusion_matrix(y_test, y_pred)\n",
    "        \n",
    "        if smote == 1:\n",
    "            print (\"Smote Version\")\n",
    "\n",
    "        print(name)\n",
    "        print('CM Model: ')\n",
    "        print(cm_model)\n",
    "        print('Test Accuracy: ',accuracy_score(y_test,model.predict(X_test)))\n",
    "        print('Training Accuracy: ',accuracy_score(y_train,model.predict(X_train)))\n",
    "        print('ROC AUC Score: ', roc)\n",
    "        print('Precision: ', precision)\n",
    "        print('Recall: ', recall)\n",
    "        print('f1: ', f1)\n",
    "\n",
    "        print('-------------------------------------------------')\n",
    "        \n",
    "    \n",
    "        \n"
   ]
  },
  {
   "cell_type": "markdown",
   "metadata": {},
   "source": [
    "Scores without using SMOTE"
   ]
  },
  {
   "cell_type": "code",
   "execution_count": 22,
   "metadata": {
    "scrolled": true
   },
   "outputs": [
    {
     "name": "stderr",
     "output_type": "stream",
     "text": [
      "C:\\ProgramData\\Anaconda3\\lib\\site-packages\\sklearn\\metrics\\_classification.py:1248: UndefinedMetricWarning: Precision is ill-defined and being set to 0.0 due to no predicted samples. Use `zero_division` parameter to control this behavior.\n",
      "  _warn_prf(average, modifier, msg_start, len(result))\n"
     ]
    },
    {
     "name": "stdout",
     "output_type": "stream",
     "text": [
      "Logistic Regression \n",
      "CM Model: \n",
      "[[1458    0]\n",
      " [  75    0]]\n",
      "Test Accuracy:  0.9510763209393346\n",
      "Training Accuracy:  0.9513422818791947\n",
      "ROC AUC Score:  0.5\n",
      "Precision:  0.0\n",
      "Recall:  0.0\n",
      "f1:  0.0\n",
      "-------------------------------------------------\n"
     ]
    },
    {
     "name": "stderr",
     "output_type": "stream",
     "text": [
      "C:\\ProgramData\\Anaconda3\\lib\\site-packages\\sklearn\\metrics\\_classification.py:1248: UndefinedMetricWarning: Precision is ill-defined and being set to 0.0 due to no predicted samples. Use `zero_division` parameter to control this behavior.\n",
      "  _warn_prf(average, modifier, msg_start, len(result))\n"
     ]
    },
    {
     "name": "stdout",
     "output_type": "stream",
     "text": [
      "KNearest Neighbor \n",
      "CM Model: \n",
      "[[1458    0]\n",
      " [  75    0]]\n",
      "Test Accuracy:  0.9510763209393346\n",
      "Training Accuracy:  0.9513422818791947\n",
      "ROC AUC Score:  0.5\n",
      "Precision:  0.0\n",
      "Recall:  0.0\n",
      "f1:  0.0\n",
      "-------------------------------------------------\n",
      "Decision Tree Classifier \n",
      "CM Model: \n",
      "[[1458    0]\n",
      " [  75    0]]\n",
      "Test Accuracy:  0.9510763209393346\n",
      "Training Accuracy:  0.9513422818791947\n",
      "ROC AUC Score:  0.5\n",
      "Precision:  0.0\n",
      "Recall:  0.0\n",
      "f1:  0.0\n",
      "-------------------------------------------------\n"
     ]
    },
    {
     "name": "stderr",
     "output_type": "stream",
     "text": [
      "C:\\ProgramData\\Anaconda3\\lib\\site-packages\\sklearn\\metrics\\_classification.py:1248: UndefinedMetricWarning: Precision is ill-defined and being set to 0.0 due to no predicted samples. Use `zero_division` parameter to control this behavior.\n",
      "  _warn_prf(average, modifier, msg_start, len(result))\n"
     ]
    },
    {
     "name": "stdout",
     "output_type": "stream",
     "text": [
      "Ada Boost \n",
      "CM Model: \n",
      "[[1458    0]\n",
      " [  74    1]]\n",
      "Test Accuracy:  0.9517286366601435\n",
      "Training Accuracy:  0.9532997762863534\n",
      "ROC AUC Score:  0.5066666666666667\n",
      "Precision:  1.0\n",
      "Recall:  0.013333333333333334\n",
      "f1:  0.02631578947368421\n",
      "-------------------------------------------------\n",
      "SVM \n",
      "CM Model: \n",
      "[[1458    0]\n",
      " [  75    0]]\n",
      "Test Accuracy:  0.9510763209393346\n",
      "Training Accuracy:  0.9513422818791947\n",
      "ROC AUC Score:  0.5\n",
      "Precision:  0.0\n",
      "Recall:  0.0\n",
      "f1:  0.0\n",
      "-------------------------------------------------\n"
     ]
    },
    {
     "name": "stderr",
     "output_type": "stream",
     "text": [
      "C:\\ProgramData\\Anaconda3\\lib\\site-packages\\sklearn\\metrics\\_classification.py:1248: UndefinedMetricWarning: Precision is ill-defined and being set to 0.0 due to no predicted samples. Use `zero_division` parameter to control this behavior.\n",
      "  _warn_prf(average, modifier, msg_start, len(result))\n"
     ]
    }
   ],
   "source": [
    "\n",
    "evaluate(X_train,y_train,X_test,y_test, 0)\n"
   ]
  },
  {
   "cell_type": "markdown",
   "metadata": {},
   "source": [
    "Models trained with SMOTE sampling"
   ]
  },
  {
   "cell_type": "code",
   "execution_count": 23,
   "metadata": {
    "scrolled": true
   },
   "outputs": [
    {
     "name": "stdout",
     "output_type": "stream",
     "text": [
      "Smote Version\n",
      "Logistic Regression \n",
      "CM Model: \n",
      "[[1084  374]\n",
      " [  17   58]]\n",
      "Test Accuracy:  0.7449445531637312\n",
      "Training Accuracy:  0.7833627278071722\n",
      "ROC AUC Score:  0.75840877914952\n",
      "Precision:  0.13425925925925927\n",
      "Recall:  0.7733333333333333\n",
      "f1:  0.2287968441814596\n",
      "-------------------------------------------------\n",
      "Smote Version\n",
      "KNearest Neighbor \n",
      "CM Model: \n",
      "[[894 564]\n",
      " [  9  66]]\n",
      "Test Accuracy:  0.6262230919765166\n",
      "Training Accuracy:  0.7361845972957084\n",
      "ROC AUC Score:  0.7465843621399177\n",
      "Precision:  0.10476190476190476\n",
      "Recall:  0.88\n",
      "f1:  0.1872340425531915\n",
      "-------------------------------------------------\n",
      "Smote Version\n",
      "Decision Tree Classifier \n",
      "CM Model: \n",
      "[[812 646]\n",
      " [  5  70]]\n",
      "Test Accuracy:  0.5753424657534246\n",
      "Training Accuracy:  0.7748383303938859\n",
      "ROC AUC Score:  0.7451303155006859\n",
      "Precision:  0.09776536312849161\n",
      "Recall:  0.9333333333333333\n",
      "f1:  0.17699115044247787\n",
      "-------------------------------------------------\n",
      "Smote Version\n",
      "Ada Boost \n",
      "CM Model: \n",
      "[[493 965]\n",
      " [  3  72]]\n",
      "Test Accuracy:  0.3685583822570124\n",
      "Training Accuracy:  0.8910934744268078\n",
      "ROC AUC Score:  0.6490672153635116\n",
      "Precision:  0.06943105110896818\n",
      "Recall:  0.96\n",
      "f1:  0.12949640287769784\n",
      "-------------------------------------------------\n",
      "Smote Version\n",
      "SVM \n",
      "CM Model: \n",
      "[[1050  408]\n",
      " [  14   61]]\n",
      "Test Accuracy:  0.7247227658186562\n",
      "Training Accuracy:  0.7905643738977073\n",
      "ROC AUC Score:  0.7667489711934156\n",
      "Precision:  0.1300639658848614\n",
      "Recall:  0.8133333333333334\n",
      "f1:  0.22426470588235295\n",
      "-------------------------------------------------\n"
     ]
    }
   ],
   "source": [
    "# Scores using SMOTE\n",
    "evaluate(X_train_smote,y_train_smote,X_test,y_test, 1)\n"
   ]
  },
  {
   "cell_type": "code",
   "execution_count": 24,
   "metadata": {},
   "outputs": [],
   "source": [
    "#option 1 - the parameters together\n",
    "\n",
    "def evaluate_2( n_splits, n_repeats, n_jobs):\n",
    "    models= [['AdaBoost ',AdaBoostClassifier()],\n",
    "            ['DecisionTree ',DecisionTreeClassifier()]]\n",
    "\n",
    "\n",
    "    for name,model in models:\n",
    "        resample=SMOTEENN(enn=EditedNearestNeighbours(sampling_strategy='all'))\n",
    "        pipeline=Pipeline(steps=[('r', resample), ('m', model)])\n",
    "        cv=RepeatedStratifiedKFold(n_splits=n_splits, n_repeats=n_repeats, random_state=1)\n",
    "        scoring=['accuracy','precision_macro','recall_macro']\n",
    "        scores = cross_validate(pipeline, X, y, scoring=scoring, cv=cv, n_jobs=n_jobs)\n",
    "        print(name)\n",
    "        print('Mean Accuracy: %.4f' % np.mean(scores['test_accuracy']))\n",
    "        print('Mean Precision: %.4f' % np.mean(scores['test_precision_macro']))\n",
    "        print('Mean Recall: %.4f' % np.mean(scores['test_recall_macro']))\n",
    "\n",
    "        print('----------------------------------------')\n",
    "        \n",
    "    \n",
    "        \n"
   ]
  },
  {
   "cell_type": "code",
   "execution_count": 25,
   "metadata": {},
   "outputs": [
    {
     "name": "stdout",
     "output_type": "stream",
     "text": [
      "AdaBoost \n",
      "Mean Accuracy: 0.8349\n",
      "Mean Precision: 0.5615\n",
      "Mean Recall: 0.6828\n",
      "----------------------------------------\n",
      "DecisionTree \n",
      "Mean Accuracy: 0.8555\n",
      "Mean Precision: 0.5465\n",
      "Mean Recall: 0.6128\n",
      "----------------------------------------\n"
     ]
    }
   ],
   "source": [
    "evaluate_2(10, 3, -1)"
   ]
  },
  {
   "cell_type": "code",
   "execution_count": 26,
   "metadata": {},
   "outputs": [],
   "source": [
    "#option 2, run the adaboost and decisiontree with kfold individually to adjust the parameters. It is set up with default ones. \n",
    "def evaluate_3(model, n_splits = 10, n_repeats = 3, n_jobs = -1):\n",
    "    resample=SMOTEENN(enn=EditedNearestNeighbours(sampling_strategy='all'))\n",
    "    pipeline=Pipeline(steps=[('r', resample), ('m', model)])\n",
    "    cv=RepeatedStratifiedKFold(n_splits=n_splits, n_repeats=n_repeats, random_state=1)\n",
    "    scoring=['accuracy','precision_macro','recall_macro']\n",
    "    scores = cross_validate(pipeline, X, y, scoring=scoring, cv=cv, n_jobs=n_jobs)\n",
    "\n",
    "    print('Mean Accuracy: %.4f' % np.mean(scores['test_accuracy']))\n",
    "    print('Mean Precision: %.4f' % np.mean(scores['test_precision_macro']))\n",
    "    print('Mean Recall: %.4f' % np.mean(scores['test_recall_macro']))"
   ]
  },
  {
   "cell_type": "code",
   "execution_count": 27,
   "metadata": {},
   "outputs": [
    {
     "name": "stdout",
     "output_type": "stream",
     "text": [
      "Mean Accuracy: 0.8362\n",
      "Mean Precision: 0.5621\n",
      "Mean Recall: 0.6829\n"
     ]
    }
   ],
   "source": [
    "model=AdaBoostClassifier(random_state =27)\n",
    "evaluate_3(model)"
   ]
  },
  {
   "cell_type": "code",
   "execution_count": 28,
   "metadata": {},
   "outputs": [
    {
     "name": "stdout",
     "output_type": "stream",
     "text": [
      "Mean Accuracy: 0.8334\n",
      "Mean Precision: 0.5609\n",
      "Mean Recall: 0.6833\n"
     ]
    }
   ],
   "source": [
    "model_2 = DecisionTreeClassifier()\n",
    "evaluate_3(model)"
   ]
  },
  {
   "cell_type": "markdown",
   "metadata": {},
   "source": [
    "Functions to find the best optimization of each model"
   ]
  },
  {
   "cell_type": "code",
   "execution_count": 29,
   "metadata": {},
   "outputs": [
    {
     "name": "stdout",
     "output_type": "stream",
     "text": [
      "The recall score is 0.88\n",
      "The optimal n_neighbor number is 285\n"
     ]
    }
   ],
   "source": [
    "# finding the right number of neighbors\n",
    "def optimize(upper):\n",
    "    k = 0\n",
    "    n = 0 \n",
    "    for number in range(1, upper):\n",
    "        knn = KNeighborsClassifier(n_neighbors = number)\n",
    "        knn.fit(X_train_smote, y_train_smote)\n",
    "        y_pred = knn.predict(X_test)       \n",
    "        b = recall_score(y_test, y_pred)\n",
    "        if b>k:\n",
    "            n=number\n",
    "            k=b\n",
    "\n",
    "    print('The recall score is ' + str(k))\n",
    "    print('The optimal n_neighbor number is ' + str(n))\n",
    "\n",
    "optimize(300)\n",
    "    "
   ]
  },
  {
   "cell_type": "code",
   "execution_count": 30,
   "metadata": {},
   "outputs": [
    {
     "name": "stdout",
     "output_type": "stream",
     "text": [
      "The recall score is 0.96\n",
      "The optimal n_estimators number is 137\n"
     ]
    }
   ],
   "source": [
    "def optimizeAda(upper):\n",
    "    k = 0\n",
    "    n = 0 \n",
    "    for number in range(1, upper):\n",
    "        abc = AdaBoostClassifier(n_estimators = number)\n",
    "        abc.fit(X_train_smote, y_train_smote)\n",
    "        y_pred = abc.predict(X_test)       \n",
    "        b = recall_score(y_test, y_pred)\n",
    "        if b>k:\n",
    "            n=number\n",
    "            k=b\n",
    "    print('The recall score is ' + str(k))\n",
    "    print('The optimal n_estimators number is ' + str(n))\n",
    "\n",
    "optimizeAda(300)\n",
    "    "
   ]
  },
  {
   "cell_type": "code",
   "execution_count": 31,
   "metadata": {},
   "outputs": [
    {
     "name": "stdout",
     "output_type": "stream",
     "text": [
      "The recall score is 0.96\n",
      "The optimal learning rate is 1\n"
     ]
    }
   ],
   "source": [
    "# finding the best learning rate. Looks like the optimal one is the default. \n",
    "\n",
    "def optimizeAdaLR():\n",
    "    k = 0\n",
    "    n = [.00001, .0001, .001, .01, .1, 1, 1.1, 1.2, 1.3, 1.4 , 1.5, 1,6, 1.7, 1.8, 1.9, 2.0] \n",
    "    for number in n:\n",
    "        abc = AdaBoostClassifier(n_estimators = 137, learning_rate = number)\n",
    "        abc.fit(X_train_smote, y_train_smote)\n",
    "        y_pred = abc.predict(X_test)       \n",
    "        b = recall_score(y_test, y_pred)\n",
    "        if b>k:\n",
    "            n=number\n",
    "            k=b\n",
    "    \n",
    "        \n",
    "    print('The recall score is ' + str(k))\n",
    "    print('The optimal learning rate is ' + str(n))\n",
    "\n",
    "    \n",
    "    \n",
    "    \n",
    "optimizeAdaLR()"
   ]
  },
  {
   "cell_type": "code",
   "execution_count": 32,
   "metadata": {},
   "outputs": [
    {
     "name": "stdout",
     "output_type": "stream",
     "text": [
      "The recall score is 0.9333333333333333\n",
      "accuracy = 0.5753424657534246\n"
     ]
    }
   ],
   "source": [
    "# Fine tuning DecisionTreeClassifier - didn't keep every iteration \n",
    "dtc = DecisionTreeClassifier(random_state = 27, max_depth = 2, min_samples_leaf = 5)\n",
    "dtc.fit(X_train_smote, y_train_smote)\n",
    "y_pred = dtc.predict(X_test)  \n",
    "c = accuracy_score(y_test,dtc.predict(X_test))\n",
    "b = recall_score(y_test, y_pred)\n",
    "\n",
    "print('The recall score is ' + str(b))\n",
    "print(\"accuracy = \" + str(c))\n",
    "    \n",
    "    \n",
    "    \n"
   ]
  },
  {
   "cell_type": "code",
   "execution_count": 33,
   "metadata": {},
   "outputs": [
    {
     "name": "stdout",
     "output_type": "stream",
     "text": [
      "The recall score is 0.8133333333333334\n",
      "accuracy = 0.7247227658186562\n"
     ]
    }
   ],
   "source": [
    "#fine tuning SVC - didn't keep every iteration\n",
    "k = 0\n",
    "n = ['linear', 'poly', 'rbf', 'sigmoid', 'precomputed'] \n",
    "\n",
    "sv = SVC(random_state = 27, kernel = 'linear')\n",
    "sv.fit(X_train_smote, y_train_smote)\n",
    "y_pred = sv.predict(X_test)     \n",
    "c = accuracy_score(y_test,sv.predict(X_test))\n",
    "\n",
    "b = recall_score(y_test, y_pred)\n",
    "\n",
    "print('The recall score is ' + str(b))\n",
    "print(\"accuracy = \" + str(c))\n",
    "    \n",
    "    \n",
    "    \n"
   ]
  },
  {
   "cell_type": "code",
   "execution_count": 34,
   "metadata": {},
   "outputs": [
    {
     "name": "stdout",
     "output_type": "stream",
     "text": [
      "The recall score is 0.8133333333333334\n",
      "The optimal C is 1\n"
     ]
    }
   ],
   "source": [
    "def optimizeC(upper):\n",
    "    k = 0\n",
    "    n = 0 \n",
    "    for number in range(1, upper):\n",
    "        sv = SVC(random_state = 27, kernel = 'linear', C= number)\n",
    "        sv.fit(X_train_smote, y_train_smote)\n",
    "        y_pred = sv.predict(X_test)       \n",
    "        b = recall_score(y_test, y_pred)\n",
    "        if b>k:\n",
    "            n=number\n",
    "            k=b\n",
    "    \n",
    "        \n",
    "    print('The recall score is ' + str(k))\n",
    "    print('The optimal C is ' + str(n))\n",
    "\n",
    "    \n",
    "    \n",
    "    \n",
    "optimizeC(20)\n",
    "    "
   ]
  }
 ],
 "metadata": {
  "kernelspec": {
   "display_name": "Python 3",
   "language": "python",
   "name": "python3"
  },
  "language_info": {
   "codemirror_mode": {
    "name": "ipython",
    "version": 3
   },
   "file_extension": ".py",
   "mimetype": "text/x-python",
   "name": "python",
   "nbconvert_exporter": "python",
   "pygments_lexer": "ipython3",
   "version": "3.8.5"
  }
 },
 "nbformat": 4,
 "nbformat_minor": 4
}
